{
 "nbformat": 4,
 "nbformat_minor": 0,
 "metadata": {
  "colab": {
   "name": "unstructured.ipynb",
   "provenance": [],
   "collapsed_sections": [],
   "authorship_tag": "ABX9TyMix1yermz0NlTxV6H8MKoS",
   "include_colab_link": true
  },
  "kernelspec": {
   "name": "python3",
   "display_name": "Python 3"
  },
  "language_info": {
   "name": "python"
  }
 },
 "cells": [
  {
   "cell_type": "markdown",
   "metadata": {
    "id": "view-in-github",
    "colab_type": "text"
   },
   "source": [
    "<a href=\"https://colab.research.google.com/github/witold87/pub_haystack_unstructurized/blob/develop/unstructured.ipynb\" target=\"_parent\"><img src=\"https://colab.research.google.com/assets/colab-badge.svg\" alt=\"Open In Colab\"/></a>"
   ]
  },
  {
   "cell_type": "code",
   "source": [
    "! pip install farm-haystack==0.8.0"
   ],
   "metadata": {
    "colab": {
     "base_uri": "https://localhost:8080/"
    },
    "id": "0bxFxy9MYg-2",
    "outputId": "ae11aee1-ba13-4e36-b9f5-8a6bb77e06f2"
   },
   "execution_count": 4,
   "outputs": [
    {
     "name": "stdout",
     "output_type": "stream",
     "text": [
      "Requirement already satisfied: farm-haystack==0.8.0 in ./hay/lib/python3.6/site-packages (0.8.0)\r\n",
      "Requirement already satisfied: gunicorn in ./hay/lib/python3.6/site-packages (from farm-haystack==0.8.0) (20.1.0)\r\n",
      "Requirement already satisfied: uvloop==0.14 in ./hay/lib/python3.6/site-packages (from farm-haystack==0.8.0) (0.14.0)\r\n",
      "Requirement already satisfied: python-docx in ./hay/lib/python3.6/site-packages (from farm-haystack==0.8.0) (0.8.11)\r\n",
      "Requirement already satisfied: pymilvus in ./hay/lib/python3.6/site-packages (from farm-haystack==0.8.0) (1.1.2)\r\n",
      "Requirement already satisfied: SPARQLWrapper in ./hay/lib/python3.6/site-packages (from farm-haystack==0.8.0) (1.8.5)\r\n",
      "Requirement already satisfied: langdetect in ./hay/lib/python3.6/site-packages (from farm-haystack==0.8.0) (1.0.9)\r\n",
      "Requirement already satisfied: sqlalchemy>=1.4.2 in ./hay/lib/python3.6/site-packages (from farm-haystack==0.8.0) (1.4.31)\r\n",
      "Requirement already satisfied: httptools in ./hay/lib/python3.6/site-packages (from farm-haystack==0.8.0) (0.3.0)\r\n",
      "Requirement already satisfied: sqlalchemy-utils in ./hay/lib/python3.6/site-packages (from farm-haystack==0.8.0) (0.38.2)\r\n",
      "Requirement already satisfied: uvicorn in ./hay/lib/python3.6/site-packages (from farm-haystack==0.8.0) (0.16.0)\r\n",
      "Requirement already satisfied: python-multipart in ./hay/lib/python3.6/site-packages (from farm-haystack==0.8.0) (0.0.5)\r\n",
      "Requirement already satisfied: faiss-cpu>=1.6.3 in ./hay/lib/python3.6/site-packages (from farm-haystack==0.8.0) (1.7.2)\r\n",
      "Requirement already satisfied: psycopg2-binary in ./hay/lib/python3.6/site-packages (from farm-haystack==0.8.0) (2.9.3)\r\n",
      "Requirement already satisfied: sklearn in ./hay/lib/python3.6/site-packages (from farm-haystack==0.8.0) (0.0)\r\n",
      "Requirement already satisfied: farm==0.7.1 in ./hay/lib/python3.6/site-packages (from farm-haystack==0.8.0) (0.7.1)\r\n",
      "Requirement already satisfied: nltk in ./hay/lib/python3.6/site-packages (from farm-haystack==0.8.0) (3.6.7)\r\n",
      "Requirement already satisfied: more-itertools in ./hay/lib/python3.6/site-packages (from farm-haystack==0.8.0) (8.12.0)\r\n",
      "Requirement already satisfied: elasticsearch<=7.10,>=7.7 in ./hay/lib/python3.6/site-packages (from farm-haystack==0.8.0) (7.10.0)\r\n",
      "Requirement already satisfied: coverage in ./hay/lib/python3.6/site-packages (from farm-haystack==0.8.0) (6.2)\r\n",
      "Requirement already satisfied: tika in ./hay/lib/python3.6/site-packages (from farm-haystack==0.8.0) (1.24)\r\n",
      "Requirement already satisfied: pandas in ./hay/lib/python3.6/site-packages (from farm-haystack==0.8.0) (1.1.5)\r\n",
      "Requirement already satisfied: networkx in ./hay/lib/python3.6/site-packages (from farm-haystack==0.8.0) (2.5.1)\r\n",
      "Requirement already satisfied: fastapi in ./hay/lib/python3.6/site-packages (from farm-haystack==0.8.0) (0.73.0)\r\n",
      "Requirement already satisfied: tox in ./hay/lib/python3.6/site-packages (from farm-haystack==0.8.0) (3.24.5)\r\n",
      "Requirement already satisfied: elastic-apm in ./hay/lib/python3.6/site-packages (from farm-haystack==0.8.0) (6.7.2)\r\n",
      "Requirement already satisfied: sentencepiece in ./hay/lib/python3.6/site-packages (from farm==0.7.1->farm-haystack==0.8.0) (0.1.96)\r\n",
      "Requirement already satisfied: Werkzeug==0.16.1 in ./hay/lib/python3.6/site-packages (from farm==0.7.1->farm-haystack==0.8.0) (0.16.1)\r\n",
      "Requirement already satisfied: flask-cors in ./hay/lib/python3.6/site-packages (from farm==0.7.1->farm-haystack==0.8.0) (3.0.10)\r\n",
      "Requirement already satisfied: dill in ./hay/lib/python3.6/site-packages (from farm==0.7.1->farm-haystack==0.8.0) (0.3.4)\r\n",
      "Requirement already satisfied: tqdm in ./hay/lib/python3.6/site-packages (from farm==0.7.1->farm-haystack==0.8.0) (4.62.3)\r\n",
      "Requirement already satisfied: mlflow<=1.13.1 in ./hay/lib/python3.6/site-packages (from farm==0.7.1->farm-haystack==0.8.0) (1.13.1)\r\n",
      "Requirement already satisfied: dotmap in ./hay/lib/python3.6/site-packages (from farm==0.7.1->farm-haystack==0.8.0) (1.3.26)\r\n",
      "Requirement already satisfied: wheel in ./hay/lib/python3.6/site-packages (from farm==0.7.1->farm-haystack==0.8.0) (0.36.2)\r\n",
      "Requirement already satisfied: seqeval in ./hay/lib/python3.6/site-packages (from farm==0.7.1->farm-haystack==0.8.0) (1.2.2)\r\n",
      "Requirement already satisfied: transformers==4.1.1 in ./hay/lib/python3.6/site-packages (from farm==0.7.1->farm-haystack==0.8.0) (4.1.1)\r\n",
      "Requirement already satisfied: flask in ./hay/lib/python3.6/site-packages (from farm==0.7.1->farm-haystack==0.8.0) (1.1.4)\r\n",
      "Requirement already satisfied: setuptools in ./hay/lib/python3.6/site-packages (from farm==0.7.1->farm-haystack==0.8.0) (57.0.0)\r\n",
      "Requirement already satisfied: flask-restplus in ./hay/lib/python3.6/site-packages (from farm==0.7.1->farm-haystack==0.8.0) (0.13.0)\r\n",
      "Requirement already satisfied: psutil in ./hay/lib/python3.6/site-packages (from farm==0.7.1->farm-haystack==0.8.0) (5.9.0)\r\n",
      "Requirement already satisfied: boto3 in ./hay/lib/python3.6/site-packages (from farm==0.7.1->farm-haystack==0.8.0) (1.20.42)\r\n",
      "Requirement already satisfied: torch<1.8,>1.5 in ./hay/lib/python3.6/site-packages (from farm==0.7.1->farm-haystack==0.8.0) (1.7.1)\r\n",
      "Requirement already satisfied: requests in ./hay/lib/python3.6/site-packages (from farm==0.7.1->farm-haystack==0.8.0) (2.27.1)\r\n",
      "Requirement already satisfied: scipy>=1.3.2 in ./hay/lib/python3.6/site-packages (from farm==0.7.1->farm-haystack==0.8.0) (1.5.4)\r\n",
      "Requirement already satisfied: regex!=2019.12.17 in ./hay/lib/python3.6/site-packages (from transformers==4.1.1->farm==0.7.1->farm-haystack==0.8.0) (2022.1.18)\r\n",
      "Requirement already satisfied: numpy in ./hay/lib/python3.6/site-packages (from transformers==4.1.1->farm==0.7.1->farm-haystack==0.8.0) (1.19.5)\r\n",
      "Requirement already satisfied: dataclasses in ./hay/lib/python3.6/site-packages (from transformers==4.1.1->farm==0.7.1->farm-haystack==0.8.0) (0.8)\r\n",
      "Requirement already satisfied: tokenizers==0.9.4 in ./hay/lib/python3.6/site-packages (from transformers==4.1.1->farm==0.7.1->farm-haystack==0.8.0) (0.9.4)\r\n",
      "Requirement already satisfied: sacremoses in ./hay/lib/python3.6/site-packages (from transformers==4.1.1->farm==0.7.1->farm-haystack==0.8.0) (0.0.47)\r\n",
      "Requirement already satisfied: packaging in ./hay/lib/python3.6/site-packages (from transformers==4.1.1->farm==0.7.1->farm-haystack==0.8.0) (21.3)\r\n",
      "Requirement already satisfied: filelock in ./hay/lib/python3.6/site-packages (from transformers==4.1.1->farm==0.7.1->farm-haystack==0.8.0) (3.4.1)\r\n",
      "Requirement already satisfied: urllib3<2,>=1.21.1 in ./hay/lib/python3.6/site-packages (from elasticsearch<=7.10,>=7.7->farm-haystack==0.8.0) (1.26.8)\r\n",
      "Requirement already satisfied: certifi in ./hay/lib/python3.6/site-packages (from elasticsearch<=7.10,>=7.7->farm-haystack==0.8.0) (2021.10.8)\r\n",
      "Requirement already satisfied: click>=7.0 in ./hay/lib/python3.6/site-packages (from mlflow<=1.13.1->farm==0.7.1->farm-haystack==0.8.0) (7.1.2)\r\n",
      "Requirement already satisfied: databricks-cli>=0.8.7 in ./hay/lib/python3.6/site-packages (from mlflow<=1.13.1->farm==0.7.1->farm-haystack==0.8.0) (0.16.2)\r\n",
      "Requirement already satisfied: azure-storage-blob>=12.0.0 in ./hay/lib/python3.6/site-packages (from mlflow<=1.13.1->farm==0.7.1->farm-haystack==0.8.0) (12.9.0)\r\n",
      "Requirement already satisfied: sqlparse>=0.3.1 in ./hay/lib/python3.6/site-packages (from mlflow<=1.13.1->farm==0.7.1->farm-haystack==0.8.0) (0.4.2)\r\n",
      "Requirement already satisfied: prometheus-flask-exporter in ./hay/lib/python3.6/site-packages (from mlflow<=1.13.1->farm==0.7.1->farm-haystack==0.8.0) (0.18.7)\r\n",
      "Requirement already satisfied: gitpython>=2.1.0 in ./hay/lib/python3.6/site-packages (from mlflow<=1.13.1->farm==0.7.1->farm-haystack==0.8.0) (3.1.18)\r\n",
      "Requirement already satisfied: six>=1.10.0 in ./hay/lib/python3.6/site-packages (from mlflow<=1.13.1->farm==0.7.1->farm-haystack==0.8.0) (1.16.0)\r\n",
      "Requirement already satisfied: protobuf>=3.6.0 in ./hay/lib/python3.6/site-packages (from mlflow<=1.13.1->farm==0.7.1->farm-haystack==0.8.0) (3.19.3)\r\n",
      "Requirement already satisfied: cloudpickle in ./hay/lib/python3.6/site-packages (from mlflow<=1.13.1->farm==0.7.1->farm-haystack==0.8.0) (2.0.0)\r\n",
      "Requirement already satisfied: alembic<=1.4.1 in ./hay/lib/python3.6/site-packages (from mlflow<=1.13.1->farm==0.7.1->farm-haystack==0.8.0) (1.4.1)\r\n",
      "Requirement already satisfied: entrypoints in ./hay/lib/python3.6/site-packages (from mlflow<=1.13.1->farm==0.7.1->farm-haystack==0.8.0) (0.3)\r\n",
      "Requirement already satisfied: querystring-parser in ./hay/lib/python3.6/site-packages (from mlflow<=1.13.1->farm==0.7.1->farm-haystack==0.8.0) (1.2.4)\r\n",
      "Requirement already satisfied: python-dateutil in ./hay/lib/python3.6/site-packages (from mlflow<=1.13.1->farm==0.7.1->farm-haystack==0.8.0) (2.8.2)\r\n",
      "Requirement already satisfied: docker>=4.0.0 in ./hay/lib/python3.6/site-packages (from mlflow<=1.13.1->farm==0.7.1->farm-haystack==0.8.0) (5.0.3)\r\n",
      "Requirement already satisfied: pyyaml in ./hay/lib/python3.6/site-packages (from mlflow<=1.13.1->farm==0.7.1->farm-haystack==0.8.0) (6.0)\r\n",
      "Requirement already satisfied: python-editor>=0.3 in ./hay/lib/python3.6/site-packages (from alembic<=1.4.1->mlflow<=1.13.1->farm==0.7.1->farm-haystack==0.8.0) (1.0.4)\r\n",
      "Requirement already satisfied: Mako in ./hay/lib/python3.6/site-packages (from alembic<=1.4.1->mlflow<=1.13.1->farm==0.7.1->farm-haystack==0.8.0) (1.1.6)\r\n",
      "Requirement already satisfied: azure-core<2.0.0,>=1.10.0 in ./hay/lib/python3.6/site-packages (from azure-storage-blob>=12.0.0->mlflow<=1.13.1->farm==0.7.1->farm-haystack==0.8.0) (1.21.1)\r\n",
      "Requirement already satisfied: cryptography>=2.1.4 in ./hay/lib/python3.6/site-packages (from azure-storage-blob>=12.0.0->mlflow<=1.13.1->farm==0.7.1->farm-haystack==0.8.0) (36.0.1)\r\n",
      "Requirement already satisfied: msrest>=0.6.21 in ./hay/lib/python3.6/site-packages (from azure-storage-blob>=12.0.0->mlflow<=1.13.1->farm==0.7.1->farm-haystack==0.8.0) (0.6.21)\r\n",
      "Requirement already satisfied: cffi>=1.12 in ./hay/lib/python3.6/site-packages (from cryptography>=2.1.4->azure-storage-blob>=12.0.0->mlflow<=1.13.1->farm==0.7.1->farm-haystack==0.8.0) (1.15.0)\r\n",
      "Requirement already satisfied: pycparser in ./hay/lib/python3.6/site-packages (from cffi>=1.12->cryptography>=2.1.4->azure-storage-blob>=12.0.0->mlflow<=1.13.1->farm==0.7.1->farm-haystack==0.8.0) (2.21)\r\n",
      "Requirement already satisfied: tabulate>=0.7.7 in ./hay/lib/python3.6/site-packages (from databricks-cli>=0.8.7->mlflow<=1.13.1->farm==0.7.1->farm-haystack==0.8.0) (0.8.9)\r\n",
      "Requirement already satisfied: websocket-client>=0.32.0 in ./hay/lib/python3.6/site-packages (from docker>=4.0.0->mlflow<=1.13.1->farm==0.7.1->farm-haystack==0.8.0) (1.2.3)\r\n",
      "Requirement already satisfied: typing-extensions>=3.7.4.0 in ./hay/lib/python3.6/site-packages (from gitpython>=2.1.0->mlflow<=1.13.1->farm==0.7.1->farm-haystack==0.8.0) (4.0.1)\r\n",
      "Requirement already satisfied: gitdb<5,>=4.0.1 in ./hay/lib/python3.6/site-packages (from gitpython>=2.1.0->mlflow<=1.13.1->farm==0.7.1->farm-haystack==0.8.0) (4.0.9)\r\n",
      "Requirement already satisfied: smmap<6,>=3.0.1 in ./hay/lib/python3.6/site-packages (from gitdb<5,>=4.0.1->gitpython>=2.1.0->mlflow<=1.13.1->farm==0.7.1->farm-haystack==0.8.0) (5.0.0)\r\n",
      "Requirement already satisfied: requests-oauthlib>=0.5.0 in ./hay/lib/python3.6/site-packages (from msrest>=0.6.21->azure-storage-blob>=12.0.0->mlflow<=1.13.1->farm==0.7.1->farm-haystack==0.8.0) (1.3.0)\r\n",
      "Requirement already satisfied: isodate>=0.6.0 in ./hay/lib/python3.6/site-packages (from msrest>=0.6.21->azure-storage-blob>=12.0.0->mlflow<=1.13.1->farm==0.7.1->farm-haystack==0.8.0) (0.6.1)\r\n",
      "Requirement already satisfied: idna<4,>=2.5 in ./hay/lib/python3.6/site-packages (from requests->farm==0.7.1->farm-haystack==0.8.0) (3.3)\r\n",
      "Requirement already satisfied: charset-normalizer~=2.0.0 in ./hay/lib/python3.6/site-packages (from requests->farm==0.7.1->farm-haystack==0.8.0) (2.0.10)\r\n",
      "Requirement already satisfied: oauthlib>=3.0.0 in ./hay/lib/python3.6/site-packages (from requests-oauthlib>=0.5.0->msrest>=0.6.21->azure-storage-blob>=12.0.0->mlflow<=1.13.1->farm==0.7.1->farm-haystack==0.8.0) (3.1.1)\r\n",
      "Requirement already satisfied: importlib-metadata in ./hay/lib/python3.6/site-packages (from sqlalchemy>=1.4.2->farm-haystack==0.8.0) (4.8.3)\r\n",
      "Requirement already satisfied: greenlet!=0.4.17 in ./hay/lib/python3.6/site-packages (from sqlalchemy>=1.4.2->farm-haystack==0.8.0) (1.1.2)\r\n",
      "Requirement already satisfied: botocore<1.24.0,>=1.23.42 in ./hay/lib/python3.6/site-packages (from boto3->farm==0.7.1->farm-haystack==0.8.0) (1.23.42)\r\n",
      "Requirement already satisfied: s3transfer<0.6.0,>=0.5.0 in ./hay/lib/python3.6/site-packages (from boto3->farm==0.7.1->farm-haystack==0.8.0) (0.5.0)\r\n",
      "Requirement already satisfied: jmespath<1.0.0,>=0.7.1 in ./hay/lib/python3.6/site-packages (from boto3->farm==0.7.1->farm-haystack==0.8.0) (0.10.0)\r\n",
      "Requirement already satisfied: pydantic!=1.7,!=1.7.1,!=1.7.2,!=1.7.3,!=1.8,!=1.8.1,<2.0.0,>=1.6.2 in ./hay/lib/python3.6/site-packages (from fastapi->farm-haystack==0.8.0) (1.9.0)\r\n",
      "Requirement already satisfied: starlette==0.17.1 in ./hay/lib/python3.6/site-packages (from fastapi->farm-haystack==0.8.0) (0.17.1)\r\n",
      "Requirement already satisfied: anyio<4,>=3.0.0 in ./hay/lib/python3.6/site-packages (from starlette==0.17.1->fastapi->farm-haystack==0.8.0) (3.5.0)\r\n",
      "Requirement already satisfied: contextlib2>=21.6.0 in ./hay/lib/python3.6/site-packages (from starlette==0.17.1->fastapi->farm-haystack==0.8.0) (21.6.0)\r\n",
      "Requirement already satisfied: contextvars in ./hay/lib/python3.6/site-packages (from anyio<4,>=3.0.0->starlette==0.17.1->fastapi->farm-haystack==0.8.0) (2.4)\r\n",
      "Requirement already satisfied: sniffio>=1.1 in ./hay/lib/python3.6/site-packages (from anyio<4,>=3.0.0->starlette==0.17.1->fastapi->farm-haystack==0.8.0) (1.2.0)\r\n",
      "Requirement already satisfied: immutables>=0.9 in ./hay/lib/python3.6/site-packages (from contextvars->anyio<4,>=3.0.0->starlette==0.17.1->fastapi->farm-haystack==0.8.0) (0.16)\r\n",
      "Requirement already satisfied: itsdangerous<2.0,>=0.24 in ./hay/lib/python3.6/site-packages (from flask->farm==0.7.1->farm-haystack==0.8.0) (1.1.0)\r\n",
      "Requirement already satisfied: Jinja2<3.0,>=2.10.1 in ./hay/lib/python3.6/site-packages (from flask->farm==0.7.1->farm-haystack==0.8.0) (2.11.3)\r\n",
      "Requirement already satisfied: MarkupSafe>=0.23 in ./hay/lib/python3.6/site-packages (from Jinja2<3.0,>=2.10.1->flask->farm==0.7.1->farm-haystack==0.8.0) (2.0.1)\r\n",
      "Requirement already satisfied: jsonschema in ./hay/lib/python3.6/site-packages (from flask-restplus->farm==0.7.1->farm-haystack==0.8.0) (3.2.0)\r\n",
      "Requirement already satisfied: aniso8601>=0.82 in ./hay/lib/python3.6/site-packages (from flask-restplus->farm==0.7.1->farm-haystack==0.8.0) (9.0.1)\r\n",
      "Requirement already satisfied: pytz in ./hay/lib/python3.6/site-packages (from flask-restplus->farm==0.7.1->farm-haystack==0.8.0) (2021.3)\r\n",
      "Requirement already satisfied: zipp>=0.5 in ./hay/lib/python3.6/site-packages (from importlib-metadata->sqlalchemy>=1.4.2->farm-haystack==0.8.0) (3.6.0)\r\n",
      "Requirement already satisfied: attrs>=17.4.0 in ./hay/lib/python3.6/site-packages (from jsonschema->flask-restplus->farm==0.7.1->farm-haystack==0.8.0) (21.4.0)\r\n",
      "Requirement already satisfied: pyrsistent>=0.14.0 in ./hay/lib/python3.6/site-packages (from jsonschema->flask-restplus->farm==0.7.1->farm-haystack==0.8.0) (0.18.0)\r\n",
      "Requirement already satisfied: decorator<5,>=4.3 in ./hay/lib/python3.6/site-packages (from networkx->farm-haystack==0.8.0) (4.4.2)\r\n",
      "Requirement already satisfied: joblib in ./hay/lib/python3.6/site-packages (from nltk->farm-haystack==0.8.0) (1.1.0)\r\n",
      "Requirement already satisfied: pyparsing!=3.0.5,>=2.0.2 in ./hay/lib/python3.6/site-packages (from packaging->transformers==4.1.1->farm==0.7.1->farm-haystack==0.8.0) (3.0.7)\r\n",
      "Requirement already satisfied: prometheus-client in ./hay/lib/python3.6/site-packages (from prometheus-flask-exporter->mlflow<=1.13.1->farm==0.7.1->farm-haystack==0.8.0) (0.12.0)\r\n",
      "Requirement already satisfied: grpcio-tools<1.38.0,>=1.22.0 in ./hay/lib/python3.6/site-packages (from pymilvus->farm-haystack==0.8.0) (1.37.1)\r\n",
      "Requirement already satisfied: ujson>=2.0.0 in ./hay/lib/python3.6/site-packages (from pymilvus->farm-haystack==0.8.0) (4.3.0)\r\n",
      "Requirement already satisfied: grpcio<1.38.0,>=1.22.0 in ./hay/lib/python3.6/site-packages (from pymilvus->farm-haystack==0.8.0) (1.37.1)\r\n",
      "Requirement already satisfied: lxml>=2.3.2 in ./hay/lib/python3.6/site-packages (from python-docx->farm-haystack==0.8.0) (4.7.1)\r\n",
      "Requirement already satisfied: scikit-learn>=0.21.3 in ./hay/lib/python3.6/site-packages (from seqeval->farm==0.7.1->farm-haystack==0.8.0) (0.24.2)\r\n",
      "Requirement already satisfied: threadpoolctl>=2.0.0 in ./hay/lib/python3.6/site-packages (from scikit-learn>=0.21.3->seqeval->farm==0.7.1->farm-haystack==0.8.0) (3.0.0)\r\n",
      "Requirement already satisfied: rdflib>=4.0 in ./hay/lib/python3.6/site-packages (from SPARQLWrapper->farm-haystack==0.8.0) (5.0.0)\r\n",
      "Requirement already satisfied: virtualenv!=20.0.0,!=20.0.1,!=20.0.2,!=20.0.3,!=20.0.4,!=20.0.5,!=20.0.6,!=20.0.7,>=16.0.0 in ./hay/lib/python3.6/site-packages (from tox->farm-haystack==0.8.0) (20.13.0)\r\n",
      "Requirement already satisfied: py>=1.4.17 in ./hay/lib/python3.6/site-packages (from tox->farm-haystack==0.8.0) (1.11.0)\r\n",
      "Requirement already satisfied: toml>=0.9.4 in ./hay/lib/python3.6/site-packages (from tox->farm-haystack==0.8.0) (0.10.2)\r\n",
      "Requirement already satisfied: pluggy>=0.12.0 in ./hay/lib/python3.6/site-packages (from tox->farm-haystack==0.8.0) (1.0.0)\r\n",
      "Requirement already satisfied: platformdirs<3,>=2 in ./hay/lib/python3.6/site-packages (from virtualenv!=20.0.0,!=20.0.1,!=20.0.2,!=20.0.3,!=20.0.4,!=20.0.5,!=20.0.6,!=20.0.7,>=16.0.0->tox->farm-haystack==0.8.0) (2.4.0)\r\n",
      "Requirement already satisfied: distlib<1,>=0.3.1 in ./hay/lib/python3.6/site-packages (from virtualenv!=20.0.0,!=20.0.1,!=20.0.2,!=20.0.3,!=20.0.4,!=20.0.5,!=20.0.6,!=20.0.7,>=16.0.0->tox->farm-haystack==0.8.0) (0.3.4)\r\n",
      "Requirement already satisfied: importlib-resources>=1.0 in ./hay/lib/python3.6/site-packages (from virtualenv!=20.0.0,!=20.0.1,!=20.0.2,!=20.0.3,!=20.0.4,!=20.0.5,!=20.0.6,!=20.0.7,>=16.0.0->tox->farm-haystack==0.8.0) (5.4.0)\r\n",
      "Requirement already satisfied: asgiref>=3.4.0 in ./hay/lib/python3.6/site-packages (from uvicorn->farm-haystack==0.8.0) (3.4.1)\r\n",
      "Requirement already satisfied: h11>=0.8 in ./hay/lib/python3.6/site-packages (from uvicorn->farm-haystack==0.8.0) (0.13.0)\r\n",
      "\u001B[33mWARNING: You are using pip version 21.1.2; however, version 21.3.1 is available.\r\n",
      "You should consider upgrading via the '/home/wicio/PycharmProjects/pub_haystack/hay/bin/python -m pip install --upgrade pip' command.\u001B[0m\r\n"
     ]
    }
   ]
  },
  {
   "cell_type": "code",
   "source": [
    "import logging\n",
    "\n",
    "from haystack.document_store.memory import InMemoryDocumentStore\n",
    "from haystack.document_store.faiss import FAISSDocumentStore\n",
    "from haystack.document_store.elasticsearch import ElasticsearchDocumentStore\n",
    "#from haystack.preprocessor.utils import convert_files_to_dicts, fetch_archive_from_http\n",
    "from haystack.reader import TransformersReader\n",
    "from haystack.reader import FARMReader\n",
    "from haystack.retriever import DensePassageRetriever\n",
    "from haystack.retriever import ElasticsearchRetriever\n",
    "from haystack.utils import print_answers, launch_es\n",
    "from haystack.preprocessor.cleaning import clean_wiki_text\n"
   ],
   "metadata": {
    "colab": {
     "base_uri": "https://localhost:8080/"
    },
    "id": "5yaMxhTp-laI",
    "outputId": "55fe2d92-8ccf-47b0-e474-4d6e82bb475b"
   },
   "execution_count": 5,
   "outputs": []
  },
  {
   "cell_type": "code",
   "source": [
    "reader = FARMReader(model_name_or_path=\"deepset/xlm-roberta-large-squad2\", use_gpu=False)"
   ],
   "metadata": {
    "colab": {
     "base_uri": "https://localhost:8080/"
    },
    "id": "745htnj5YFsC",
    "outputId": "3181597e-5ea8-445c-c133-05a2355bdfe2"
   },
   "execution_count": 6,
   "outputs": [
    {
     "name": "stderr",
     "output_type": "stream",
     "text": [
      "01/27/2022 15:13:36 - INFO - farm.utils -   Using device: CPU \n",
      "01/27/2022 15:13:36 - INFO - farm.utils -   Number of GPUs: 0\n",
      "01/27/2022 15:13:36 - INFO - farm.utils -   Distributed Training: False\n",
      "01/27/2022 15:13:36 - INFO - farm.utils -   Automatic Mixed Precision: None\n",
      "Exception in thread Thread-4:\n",
      "Traceback (most recent call last):\n",
      "  File \"/usr/lib/python3.6/threading.py\", line 916, in _bootstrap_inner\n",
      "    self.run()\n",
      "  File \"/usr/lib/python3.6/threading.py\", line 864, in run\n",
      "    self._target(*self._args, **self._kwargs)\n",
      "  File \"/usr/lib/python3.6/multiprocessing/pool.py\", line 405, in _handle_workers\n",
      "    pool._maintain_pool()\n",
      "  File \"/usr/lib/python3.6/multiprocessing/pool.py\", line 246, in _maintain_pool\n",
      "    self._repopulate_pool()\n",
      "  File \"/usr/lib/python3.6/multiprocessing/pool.py\", line 239, in _repopulate_pool\n",
      "    w.start()\n",
      "  File \"/usr/lib/python3.6/multiprocessing/process.py\", line 105, in start\n",
      "    self._popen = self._Popen(self)\n",
      "  File \"/usr/lib/python3.6/multiprocessing/context.py\", line 277, in _Popen\n",
      "    return Popen(process_obj)\n",
      "  File \"/usr/lib/python3.6/multiprocessing/popen_fork.py\", line 19, in __init__\n",
      "    self._launch(process_obj)\n",
      "  File \"/usr/lib/python3.6/multiprocessing/popen_fork.py\", line 66, in _launch\n",
      "    self.pid = os.fork()\n",
      "OSError: [Errno 12] Cannot allocate memory\n",
      "\n"
     ]
    },
    {
     "ename": "KeyboardInterrupt",
     "evalue": "",
     "output_type": "error",
     "traceback": [
      "\u001B[0;31m---------------------------------------------------------------------------\u001B[0m",
      "\u001B[0;31mKeyboardInterrupt\u001B[0m                         Traceback (most recent call last)",
      "\u001B[0;32m<ipython-input-6-5d31ec8b079a>\u001B[0m in \u001B[0;36m<module>\u001B[0;34m\u001B[0m\n\u001B[0;32m----> 1\u001B[0;31m \u001B[0mreader\u001B[0m \u001B[0;34m=\u001B[0m \u001B[0mFARMReader\u001B[0m\u001B[0;34m(\u001B[0m\u001B[0mmodel_name_or_path\u001B[0m\u001B[0;34m=\u001B[0m\u001B[0;34m\"deepset/xlm-roberta-large-squad2\"\u001B[0m\u001B[0;34m,\u001B[0m \u001B[0muse_gpu\u001B[0m\u001B[0;34m=\u001B[0m\u001B[0;32mFalse\u001B[0m\u001B[0;34m)\u001B[0m\u001B[0;34m\u001B[0m\u001B[0;34m\u001B[0m\u001B[0m\n\u001B[0m",
      "\u001B[0;32m~/PycharmProjects/pub_haystack/hay/lib/python3.6/site-packages/haystack/reader/farm.py\u001B[0m in \u001B[0;36m__init__\u001B[0;34m(self, model_name_or_path, model_version, context_window_size, batch_size, use_gpu, no_ans_boost, return_no_answer, top_k, top_k_per_candidate, top_k_per_sample, num_processes, max_seq_len, doc_stride, progress_bar)\u001B[0m\n\u001B[1;32m    101\u001B[0m                                             \u001B[0mdoc_stride\u001B[0m\u001B[0;34m=\u001B[0m\u001B[0mdoc_stride\u001B[0m\u001B[0;34m,\u001B[0m \u001B[0mnum_processes\u001B[0m\u001B[0;34m=\u001B[0m\u001B[0mnum_processes\u001B[0m\u001B[0;34m,\u001B[0m \u001B[0mrevision\u001B[0m\u001B[0;34m=\u001B[0m\u001B[0mmodel_version\u001B[0m\u001B[0;34m,\u001B[0m\u001B[0;34m\u001B[0m\u001B[0;34m\u001B[0m\u001B[0m\n\u001B[1;32m    102\u001B[0m                                             \u001B[0mdisable_tqdm\u001B[0m\u001B[0;34m=\u001B[0m\u001B[0;32mnot\u001B[0m \u001B[0mprogress_bar\u001B[0m\u001B[0;34m,\u001B[0m\u001B[0;34m\u001B[0m\u001B[0;34m\u001B[0m\u001B[0m\n\u001B[0;32m--> 103\u001B[0;31m                                             strict=False)\n\u001B[0m\u001B[1;32m    104\u001B[0m         \u001B[0mself\u001B[0m\u001B[0;34m.\u001B[0m\u001B[0minferencer\u001B[0m\u001B[0;34m.\u001B[0m\u001B[0mmodel\u001B[0m\u001B[0;34m.\u001B[0m\u001B[0mprediction_heads\u001B[0m\u001B[0;34m[\u001B[0m\u001B[0;36m0\u001B[0m\u001B[0;34m]\u001B[0m\u001B[0;34m.\u001B[0m\u001B[0mcontext_window_size\u001B[0m \u001B[0;34m=\u001B[0m \u001B[0mcontext_window_size\u001B[0m\u001B[0;34m\u001B[0m\u001B[0;34m\u001B[0m\u001B[0m\n\u001B[1;32m    105\u001B[0m         \u001B[0mself\u001B[0m\u001B[0;34m.\u001B[0m\u001B[0minferencer\u001B[0m\u001B[0;34m.\u001B[0m\u001B[0mmodel\u001B[0m\u001B[0;34m.\u001B[0m\u001B[0mprediction_heads\u001B[0m\u001B[0;34m[\u001B[0m\u001B[0;36m0\u001B[0m\u001B[0;34m]\u001B[0m\u001B[0;34m.\u001B[0m\u001B[0mno_ans_boost\u001B[0m \u001B[0;34m=\u001B[0m \u001B[0mno_ans_boost\u001B[0m\u001B[0;34m\u001B[0m\u001B[0;34m\u001B[0m\u001B[0m\n",
      "\u001B[0;32m~/PycharmProjects/pub_haystack/hay/lib/python3.6/site-packages/farm/infer.py\u001B[0m in \u001B[0;36mload\u001B[0;34m(cls, model_name_or_path, revision, batch_size, gpu, task_type, return_class_probs, strict, max_seq_len, doc_stride, extraction_layer, extraction_strategy, s3e_stats, num_processes, disable_tqdm, tokenizer_class, use_fast, tokenizer_args, multithreading_rust, dummy_ph, benchmarking)\u001B[0m\n\u001B[1;32m    266\u001B[0m                                                             \u001B[0mrevision\u001B[0m\u001B[0;34m=\u001B[0m\u001B[0mrevision\u001B[0m\u001B[0;34m,\u001B[0m\u001B[0;34m\u001B[0m\u001B[0;34m\u001B[0m\u001B[0m\n\u001B[1;32m    267\u001B[0m                                                             \u001B[0mdevice\u001B[0m\u001B[0;34m=\u001B[0m\u001B[0mdevice\u001B[0m\u001B[0;34m,\u001B[0m\u001B[0;34m\u001B[0m\u001B[0;34m\u001B[0m\u001B[0m\n\u001B[0;32m--> 268\u001B[0;31m                                                             task_type=task_type)\n\u001B[0m\u001B[1;32m    269\u001B[0m             processor = Processor.convert_from_transformers(model_name_or_path,\n\u001B[1;32m    270\u001B[0m                                                             \u001B[0mrevision\u001B[0m\u001B[0;34m=\u001B[0m\u001B[0mrevision\u001B[0m\u001B[0;34m,\u001B[0m\u001B[0;34m\u001B[0m\u001B[0;34m\u001B[0m\u001B[0m\n",
      "\u001B[0;32m~/PycharmProjects/pub_haystack/hay/lib/python3.6/site-packages/farm/modeling/adaptive_model.py\u001B[0m in \u001B[0;36mconvert_from_transformers\u001B[0;34m(cls, model_name_or_path, device, revision, task_type, processor)\u001B[0m\n\u001B[1;32m    541\u001B[0m                                                         \u001B[0mdevice\u001B[0m\u001B[0;34m=\u001B[0m\u001B[0mdevice\u001B[0m\u001B[0;34m,\u001B[0m\u001B[0;34m\u001B[0m\u001B[0;34m\u001B[0m\u001B[0m\n\u001B[1;32m    542\u001B[0m                                                         \u001B[0mtask_type\u001B[0m\u001B[0;34m=\u001B[0m\u001B[0mtask_type\u001B[0m\u001B[0;34m,\u001B[0m\u001B[0;34m\u001B[0m\u001B[0;34m\u001B[0m\u001B[0m\n\u001B[0;32m--> 543\u001B[0;31m                                                         processor=processor)\n\u001B[0m\u001B[1;32m    544\u001B[0m \u001B[0;34m\u001B[0m\u001B[0m\n\u001B[1;32m    545\u001B[0m \u001B[0;34m\u001B[0m\u001B[0m\n",
      "\u001B[0;32m~/PycharmProjects/pub_haystack/hay/lib/python3.6/site-packages/farm/conversion/transformers.py\u001B[0m in \u001B[0;36mconvert_from_transformers\u001B[0;34m(model_name_or_path, device, revision, task_type, processor)\u001B[0m\n\u001B[1;32m     89\u001B[0m         \"\"\"\n\u001B[1;32m     90\u001B[0m \u001B[0;34m\u001B[0m\u001B[0m\n\u001B[0;32m---> 91\u001B[0;31m         \u001B[0mlm\u001B[0m \u001B[0;34m=\u001B[0m \u001B[0mLanguageModel\u001B[0m\u001B[0;34m.\u001B[0m\u001B[0mload\u001B[0m\u001B[0;34m(\u001B[0m\u001B[0mmodel_name_or_path\u001B[0m\u001B[0;34m,\u001B[0m \u001B[0mrevision\u001B[0m\u001B[0;34m=\u001B[0m\u001B[0mrevision\u001B[0m\u001B[0;34m)\u001B[0m\u001B[0;34m\u001B[0m\u001B[0;34m\u001B[0m\u001B[0m\n\u001B[0m\u001B[1;32m     92\u001B[0m         \u001B[0;32mif\u001B[0m \u001B[0mtask_type\u001B[0m \u001B[0;32mis\u001B[0m \u001B[0;32mNone\u001B[0m\u001B[0;34m:\u001B[0m\u001B[0;34m\u001B[0m\u001B[0;34m\u001B[0m\u001B[0m\n\u001B[1;32m     93\u001B[0m             \u001B[0;31m# Infer task type from config\u001B[0m\u001B[0;34m\u001B[0m\u001B[0;34m\u001B[0m\u001B[0;34m\u001B[0m\u001B[0m\n",
      "\u001B[0;32m~/PycharmProjects/pub_haystack/hay/lib/python3.6/site-packages/farm/modeling/language_model.py\u001B[0m in \u001B[0;36mload\u001B[0;34m(cls, pretrained_model_name_or_path, revision, n_added_tokens, language_model_class, **kwargs)\u001B[0m\n\u001B[1;32m    148\u001B[0m \u001B[0;34m\u001B[0m\u001B[0m\n\u001B[1;32m    149\u001B[0m             \u001B[0;32mif\u001B[0m \u001B[0mlanguage_model_class\u001B[0m\u001B[0;34m:\u001B[0m\u001B[0;34m\u001B[0m\u001B[0;34m\u001B[0m\u001B[0m\n\u001B[0;32m--> 150\u001B[0;31m                 \u001B[0mlanguage_model\u001B[0m \u001B[0;34m=\u001B[0m \u001B[0mcls\u001B[0m\u001B[0;34m.\u001B[0m\u001B[0msubclasses\u001B[0m\u001B[0;34m[\u001B[0m\u001B[0mlanguage_model_class\u001B[0m\u001B[0;34m]\u001B[0m\u001B[0;34m.\u001B[0m\u001B[0mload\u001B[0m\u001B[0;34m(\u001B[0m\u001B[0mpretrained_model_name_or_path\u001B[0m\u001B[0;34m,\u001B[0m \u001B[0;34m**\u001B[0m\u001B[0mkwargs\u001B[0m\u001B[0;34m)\u001B[0m\u001B[0;34m\u001B[0m\u001B[0;34m\u001B[0m\u001B[0m\n\u001B[0m\u001B[1;32m    151\u001B[0m             \u001B[0;32melse\u001B[0m\u001B[0;34m:\u001B[0m\u001B[0;34m\u001B[0m\u001B[0;34m\u001B[0m\u001B[0m\n\u001B[1;32m    152\u001B[0m                 \u001B[0mlanguage_model\u001B[0m \u001B[0;34m=\u001B[0m \u001B[0;32mNone\u001B[0m\u001B[0;34m\u001B[0m\u001B[0;34m\u001B[0m\u001B[0m\n",
      "\u001B[0;32m~/PycharmProjects/pub_haystack/hay/lib/python3.6/site-packages/farm/modeling/language_model.py\u001B[0m in \u001B[0;36mload\u001B[0;34m(cls, pretrained_model_name_or_path, language, **kwargs)\u001B[0m\n\u001B[1;32m    730\u001B[0m         \u001B[0;32melse\u001B[0m\u001B[0;34m:\u001B[0m\u001B[0;34m\u001B[0m\u001B[0;34m\u001B[0m\u001B[0m\n\u001B[1;32m    731\u001B[0m             \u001B[0;31m# Huggingface transformer Style\u001B[0m\u001B[0;34m\u001B[0m\u001B[0;34m\u001B[0m\u001B[0;34m\u001B[0m\u001B[0m\n\u001B[0;32m--> 732\u001B[0;31m             \u001B[0mxlm_roberta\u001B[0m\u001B[0;34m.\u001B[0m\u001B[0mmodel\u001B[0m \u001B[0;34m=\u001B[0m \u001B[0mXLMRobertaModel\u001B[0m\u001B[0;34m.\u001B[0m\u001B[0mfrom_pretrained\u001B[0m\u001B[0;34m(\u001B[0m\u001B[0mstr\u001B[0m\u001B[0;34m(\u001B[0m\u001B[0mpretrained_model_name_or_path\u001B[0m\u001B[0;34m)\u001B[0m\u001B[0;34m,\u001B[0m \u001B[0;34m**\u001B[0m\u001B[0mkwargs\u001B[0m\u001B[0;34m)\u001B[0m\u001B[0;34m\u001B[0m\u001B[0;34m\u001B[0m\u001B[0m\n\u001B[0m\u001B[1;32m    733\u001B[0m             \u001B[0mxlm_roberta\u001B[0m\u001B[0;34m.\u001B[0m\u001B[0mlanguage\u001B[0m \u001B[0;34m=\u001B[0m \u001B[0mcls\u001B[0m\u001B[0;34m.\u001B[0m\u001B[0m_get_or_infer_language_from_name\u001B[0m\u001B[0;34m(\u001B[0m\u001B[0mlanguage\u001B[0m\u001B[0;34m,\u001B[0m \u001B[0mpretrained_model_name_or_path\u001B[0m\u001B[0;34m)\u001B[0m\u001B[0;34m\u001B[0m\u001B[0;34m\u001B[0m\u001B[0m\n\u001B[1;32m    734\u001B[0m         \u001B[0;32mreturn\u001B[0m \u001B[0mxlm_roberta\u001B[0m\u001B[0;34m\u001B[0m\u001B[0;34m\u001B[0m\u001B[0m\n",
      "\u001B[0;32m~/PycharmProjects/pub_haystack/hay/lib/python3.6/site-packages/transformers/modeling_utils.py\u001B[0m in \u001B[0;36mfrom_pretrained\u001B[0;34m(cls, pretrained_model_name_or_path, *model_args, **kwargs)\u001B[0m\n\u001B[1;32m   1029\u001B[0m \u001B[0;34m\u001B[0m\u001B[0m\n\u001B[1;32m   1030\u001B[0m         \u001B[0;31m# Instantiate model.\u001B[0m\u001B[0;34m\u001B[0m\u001B[0;34m\u001B[0m\u001B[0;34m\u001B[0m\u001B[0m\n\u001B[0;32m-> 1031\u001B[0;31m         \u001B[0mmodel\u001B[0m \u001B[0;34m=\u001B[0m \u001B[0mcls\u001B[0m\u001B[0;34m(\u001B[0m\u001B[0mconfig\u001B[0m\u001B[0;34m,\u001B[0m \u001B[0;34m*\u001B[0m\u001B[0mmodel_args\u001B[0m\u001B[0;34m,\u001B[0m \u001B[0;34m**\u001B[0m\u001B[0mmodel_kwargs\u001B[0m\u001B[0;34m)\u001B[0m\u001B[0;34m\u001B[0m\u001B[0;34m\u001B[0m\u001B[0m\n\u001B[0m\u001B[1;32m   1032\u001B[0m \u001B[0;34m\u001B[0m\u001B[0m\n\u001B[1;32m   1033\u001B[0m         \u001B[0;32mif\u001B[0m \u001B[0mstate_dict\u001B[0m \u001B[0;32mis\u001B[0m \u001B[0;32mNone\u001B[0m \u001B[0;32mand\u001B[0m \u001B[0;32mnot\u001B[0m \u001B[0mfrom_tf\u001B[0m\u001B[0;34m:\u001B[0m\u001B[0;34m\u001B[0m\u001B[0;34m\u001B[0m\u001B[0m\n",
      "\u001B[0;32m~/PycharmProjects/pub_haystack/hay/lib/python3.6/site-packages/transformers/models/roberta/modeling_roberta.py\u001B[0m in \u001B[0;36m__init__\u001B[0;34m(self, config, add_pooling_layer)\u001B[0m\n\u001B[1;32m    613\u001B[0m         \u001B[0mself\u001B[0m\u001B[0;34m.\u001B[0m\u001B[0mpooler\u001B[0m \u001B[0;34m=\u001B[0m \u001B[0mRobertaPooler\u001B[0m\u001B[0;34m(\u001B[0m\u001B[0mconfig\u001B[0m\u001B[0;34m)\u001B[0m \u001B[0;32mif\u001B[0m \u001B[0madd_pooling_layer\u001B[0m \u001B[0;32melse\u001B[0m \u001B[0;32mNone\u001B[0m\u001B[0;34m\u001B[0m\u001B[0;34m\u001B[0m\u001B[0m\n\u001B[1;32m    614\u001B[0m \u001B[0;34m\u001B[0m\u001B[0m\n\u001B[0;32m--> 615\u001B[0;31m         \u001B[0mself\u001B[0m\u001B[0;34m.\u001B[0m\u001B[0minit_weights\u001B[0m\u001B[0;34m(\u001B[0m\u001B[0;34m)\u001B[0m\u001B[0;34m\u001B[0m\u001B[0;34m\u001B[0m\u001B[0m\n\u001B[0m\u001B[1;32m    616\u001B[0m \u001B[0;34m\u001B[0m\u001B[0m\n\u001B[1;32m    617\u001B[0m     \u001B[0;32mdef\u001B[0m \u001B[0mget_input_embeddings\u001B[0m\u001B[0;34m(\u001B[0m\u001B[0mself\u001B[0m\u001B[0;34m)\u001B[0m\u001B[0;34m:\u001B[0m\u001B[0;34m\u001B[0m\u001B[0;34m\u001B[0m\u001B[0m\n",
      "\u001B[0;32m~/PycharmProjects/pub_haystack/hay/lib/python3.6/site-packages/transformers/modeling_utils.py\u001B[0m in \u001B[0;36minit_weights\u001B[0;34m(self)\u001B[0m\n\u001B[1;32m    745\u001B[0m         \"\"\"\n\u001B[1;32m    746\u001B[0m         \u001B[0;31m# Initialize weights\u001B[0m\u001B[0;34m\u001B[0m\u001B[0;34m\u001B[0m\u001B[0;34m\u001B[0m\u001B[0m\n\u001B[0;32m--> 747\u001B[0;31m         \u001B[0mself\u001B[0m\u001B[0;34m.\u001B[0m\u001B[0mapply\u001B[0m\u001B[0;34m(\u001B[0m\u001B[0mself\u001B[0m\u001B[0;34m.\u001B[0m\u001B[0m_init_weights\u001B[0m\u001B[0;34m)\u001B[0m\u001B[0;34m\u001B[0m\u001B[0;34m\u001B[0m\u001B[0m\n\u001B[0m\u001B[1;32m    748\u001B[0m \u001B[0;34m\u001B[0m\u001B[0m\n\u001B[1;32m    749\u001B[0m         \u001B[0;31m# Prune heads if needed\u001B[0m\u001B[0;34m\u001B[0m\u001B[0;34m\u001B[0m\u001B[0;34m\u001B[0m\u001B[0m\n",
      "\u001B[0;32m~/PycharmProjects/pub_haystack/hay/lib/python3.6/site-packages/torch/nn/modules/module.py\u001B[0m in \u001B[0;36mapply\u001B[0;34m(self, fn)\u001B[0m\n\u001B[1;32m    443\u001B[0m         \"\"\"\n\u001B[1;32m    444\u001B[0m         \u001B[0;32mfor\u001B[0m \u001B[0mmodule\u001B[0m \u001B[0;32min\u001B[0m \u001B[0mself\u001B[0m\u001B[0;34m.\u001B[0m\u001B[0mchildren\u001B[0m\u001B[0;34m(\u001B[0m\u001B[0;34m)\u001B[0m\u001B[0;34m:\u001B[0m\u001B[0;34m\u001B[0m\u001B[0;34m\u001B[0m\u001B[0m\n\u001B[0;32m--> 445\u001B[0;31m             \u001B[0mmodule\u001B[0m\u001B[0;34m.\u001B[0m\u001B[0mapply\u001B[0m\u001B[0;34m(\u001B[0m\u001B[0mfn\u001B[0m\u001B[0;34m)\u001B[0m\u001B[0;34m\u001B[0m\u001B[0;34m\u001B[0m\u001B[0m\n\u001B[0m\u001B[1;32m    446\u001B[0m         \u001B[0mfn\u001B[0m\u001B[0;34m(\u001B[0m\u001B[0mself\u001B[0m\u001B[0;34m)\u001B[0m\u001B[0;34m\u001B[0m\u001B[0;34m\u001B[0m\u001B[0m\n\u001B[1;32m    447\u001B[0m         \u001B[0;32mreturn\u001B[0m \u001B[0mself\u001B[0m\u001B[0;34m\u001B[0m\u001B[0;34m\u001B[0m\u001B[0m\n",
      "\u001B[0;32m~/PycharmProjects/pub_haystack/hay/lib/python3.6/site-packages/torch/nn/modules/module.py\u001B[0m in \u001B[0;36mapply\u001B[0;34m(self, fn)\u001B[0m\n\u001B[1;32m    443\u001B[0m         \"\"\"\n\u001B[1;32m    444\u001B[0m         \u001B[0;32mfor\u001B[0m \u001B[0mmodule\u001B[0m \u001B[0;32min\u001B[0m \u001B[0mself\u001B[0m\u001B[0;34m.\u001B[0m\u001B[0mchildren\u001B[0m\u001B[0;34m(\u001B[0m\u001B[0;34m)\u001B[0m\u001B[0;34m:\u001B[0m\u001B[0;34m\u001B[0m\u001B[0;34m\u001B[0m\u001B[0m\n\u001B[0;32m--> 445\u001B[0;31m             \u001B[0mmodule\u001B[0m\u001B[0;34m.\u001B[0m\u001B[0mapply\u001B[0m\u001B[0;34m(\u001B[0m\u001B[0mfn\u001B[0m\u001B[0;34m)\u001B[0m\u001B[0;34m\u001B[0m\u001B[0;34m\u001B[0m\u001B[0m\n\u001B[0m\u001B[1;32m    446\u001B[0m         \u001B[0mfn\u001B[0m\u001B[0;34m(\u001B[0m\u001B[0mself\u001B[0m\u001B[0;34m)\u001B[0m\u001B[0;34m\u001B[0m\u001B[0;34m\u001B[0m\u001B[0m\n\u001B[1;32m    447\u001B[0m         \u001B[0;32mreturn\u001B[0m \u001B[0mself\u001B[0m\u001B[0;34m\u001B[0m\u001B[0;34m\u001B[0m\u001B[0m\n",
      "\u001B[0;32m~/PycharmProjects/pub_haystack/hay/lib/python3.6/site-packages/torch/nn/modules/module.py\u001B[0m in \u001B[0;36mapply\u001B[0;34m(self, fn)\u001B[0m\n\u001B[1;32m    444\u001B[0m         \u001B[0;32mfor\u001B[0m \u001B[0mmodule\u001B[0m \u001B[0;32min\u001B[0m \u001B[0mself\u001B[0m\u001B[0;34m.\u001B[0m\u001B[0mchildren\u001B[0m\u001B[0;34m(\u001B[0m\u001B[0;34m)\u001B[0m\u001B[0;34m:\u001B[0m\u001B[0;34m\u001B[0m\u001B[0;34m\u001B[0m\u001B[0m\n\u001B[1;32m    445\u001B[0m             \u001B[0mmodule\u001B[0m\u001B[0;34m.\u001B[0m\u001B[0mapply\u001B[0m\u001B[0;34m(\u001B[0m\u001B[0mfn\u001B[0m\u001B[0;34m)\u001B[0m\u001B[0;34m\u001B[0m\u001B[0;34m\u001B[0m\u001B[0m\n\u001B[0;32m--> 446\u001B[0;31m         \u001B[0mfn\u001B[0m\u001B[0;34m(\u001B[0m\u001B[0mself\u001B[0m\u001B[0;34m)\u001B[0m\u001B[0;34m\u001B[0m\u001B[0;34m\u001B[0m\u001B[0m\n\u001B[0m\u001B[1;32m    447\u001B[0m         \u001B[0;32mreturn\u001B[0m \u001B[0mself\u001B[0m\u001B[0;34m\u001B[0m\u001B[0;34m\u001B[0m\u001B[0m\n\u001B[1;32m    448\u001B[0m \u001B[0;34m\u001B[0m\u001B[0m\n",
      "\u001B[0;32m~/PycharmProjects/pub_haystack/hay/lib/python3.6/site-packages/transformers/models/roberta/modeling_roberta.py\u001B[0m in \u001B[0;36m_init_weights\u001B[0;34m(self, module)\u001B[0m\n\u001B[1;32m    504\u001B[0m             \u001B[0;31m# Slightly different from the TF version which uses truncated_normal for initialization\u001B[0m\u001B[0;34m\u001B[0m\u001B[0;34m\u001B[0m\u001B[0;34m\u001B[0m\u001B[0m\n\u001B[1;32m    505\u001B[0m             \u001B[0;31m# cf https://github.com/pytorch/pytorch/pull/5617\u001B[0m\u001B[0;34m\u001B[0m\u001B[0;34m\u001B[0m\u001B[0;34m\u001B[0m\u001B[0m\n\u001B[0;32m--> 506\u001B[0;31m             \u001B[0mmodule\u001B[0m\u001B[0;34m.\u001B[0m\u001B[0mweight\u001B[0m\u001B[0;34m.\u001B[0m\u001B[0mdata\u001B[0m\u001B[0;34m.\u001B[0m\u001B[0mnormal_\u001B[0m\u001B[0;34m(\u001B[0m\u001B[0mmean\u001B[0m\u001B[0;34m=\u001B[0m\u001B[0;36m0.0\u001B[0m\u001B[0;34m,\u001B[0m \u001B[0mstd\u001B[0m\u001B[0;34m=\u001B[0m\u001B[0mself\u001B[0m\u001B[0;34m.\u001B[0m\u001B[0mconfig\u001B[0m\u001B[0;34m.\u001B[0m\u001B[0minitializer_range\u001B[0m\u001B[0;34m)\u001B[0m\u001B[0;34m\u001B[0m\u001B[0;34m\u001B[0m\u001B[0m\n\u001B[0m\u001B[1;32m    507\u001B[0m         \u001B[0;32melif\u001B[0m \u001B[0misinstance\u001B[0m\u001B[0;34m(\u001B[0m\u001B[0mmodule\u001B[0m\u001B[0;34m,\u001B[0m \u001B[0mnn\u001B[0m\u001B[0;34m.\u001B[0m\u001B[0mLayerNorm\u001B[0m\u001B[0;34m)\u001B[0m\u001B[0;34m:\u001B[0m\u001B[0;34m\u001B[0m\u001B[0;34m\u001B[0m\u001B[0m\n\u001B[1;32m    508\u001B[0m             \u001B[0mmodule\u001B[0m\u001B[0;34m.\u001B[0m\u001B[0mbias\u001B[0m\u001B[0;34m.\u001B[0m\u001B[0mdata\u001B[0m\u001B[0;34m.\u001B[0m\u001B[0mzero_\u001B[0m\u001B[0;34m(\u001B[0m\u001B[0;34m)\u001B[0m\u001B[0;34m\u001B[0m\u001B[0;34m\u001B[0m\u001B[0m\n",
      "\u001B[0;31mKeyboardInterrupt\u001B[0m: "
     ]
    }
   ]
  },
  {
   "cell_type": "code",
   "execution_count": null,
   "metadata": {
    "colab": {
     "base_uri": "https://localhost:8080/"
    },
    "id": "tAjQhGUTRmwk",
    "outputId": "2fa44cb6-b0ea-4d56-8e5a-192d8c29b8e6"
   },
   "outputs": [],
   "source": [
    "import logging\n",
    "\n",
    "from haystack.document_store.memory import InMemoryDocumentStore\n",
    "from haystack.document_store.faiss import FAISSDocumentStore\n",
    "from haystack.document_store.elasticsearch import ElasticsearchDocumentStore\n",
    "#from haystack.preprocessor.utils import convert_files_to_dicts, fetch_archive_from_http\n",
    "from haystack.reader import TransformersReader\n",
    "from haystack.reader import FARMReader\n",
    "from haystack.retriever import DensePassageRetriever\n",
    "from haystack.retriever import ElasticsearchRetriever\n",
    "from haystack.utils import print_answers, launch_es\n",
    "from haystack.file_converter.pdf import PDFToTextConverter\n",
    "\n",
    "#from memory_profiler import profile\n",
    "\n",
    "def tutorial1_basic_qa_pipeline():\n",
    "    logger = logging.getLogger(__name__)\n",
    "    document_store = FAISSDocumentStore(faiss_index_factory_str='Flat')\n",
    "\n",
    "    from haystack.preprocessor import PreProcessor\n",
    "    from haystack.file_converter.pdf import PDFToTextConverter\n",
    "\n",
    "    converter = PDFToTextConverter(remove_numeric_tables=False)\n",
    "    text = converter.convert(file_path='data/trust_deed_01.pdf', )\n",
    "\n",
    "    preprocessor = PreProcessor(\n",
    "        clean_empty_lines=True,\n",
    "        clean_whitespace=True,\n",
    "        clean_header_footer=False,\n",
    "        split_by=\"word\",\n",
    "        split_overlap=3,\n",
    "        split_length=100,\n",
    "        split_respect_sentence_boundary=True\n",
    "    )\n",
    "\n",
    "    docs_default = preprocessor.process(text)\n",
    "\n",
    "\n",
    "    with open('data/nestle_report_de.txt', 'r') as file:\n",
    "        text = file.readlines()\n",
    "\n",
    "    text_str = '\\n'.join([str(elem) for elem in text])\n",
    "    stripped_text = text_str.strip('\\n')\n",
    "    print(stripped_text)\n",
    "\n",
    "    dicts = docs_default\n",
    "    # dicts = [{'text': stripped_text,\n",
    "    #           'meta': {'name': 'thai_air_th.txt'}}]\n",
    "    document_store.write_documents(dicts)\n",
    "    retriever = DensePassageRetriever(document_store=document_store)\n",
    "    document_store.update_embeddings(retriever)\n",
    "\n",
    "    from haystack.pipeline import ExtractiveQAPipeline\n",
    "\n",
    "    pipe = ExtractiveQAPipeline(reader, retriever)\n",
    "\n",
    "\n",
    "    # questions = ['Who is in the board of directors?',\n",
    "    #              'What is the nature of business?',\n",
    "    #              'When the company was started?',\n",
    "    #              'Where the company operates?',\n",
    "    #              'How many workers they have?']\n",
    "\n",
    "    question_en_trust_deed = [\n",
    "        'What are the names of the settlors?'\n",
    "        'What are the names of trustees?'\n",
    "    ]\n",
    "\n",
    "    questions_en = ['What is the net debt?',\n",
    "                    'Wie hoch ist der Umsatz in der Gruppe?',\n",
    "                    'What is the revenue in group?',\n",
    "                    'What is the net profit?']\n",
    "\n",
    "\n",
    "    questions_th = ['หนี้สุทธิคืออะไร??',\n",
    "                    'รายได้ในกลุ่มคืออะไร?',\n",
    "                    'กำไรสุทธิคืออะไร?',\n",
    "                    'how does the covid-19 affect the company?']\n",
    "    \n",
    "    questions_de = ['Wie hoch ist die Nettoverschuldung? ',\n",
    "                    'Wie hoch ist der Umsatz in der Gruppe?' ]\n",
    "\n",
    "\n",
    "    questions_fr = ['Quelle est la dette nette?',\n",
    "                    'Quel est le revenu du groupe?',\n",
    "                    'Quel est le chiffre daffaires du groupe? ']\n",
    "\n",
    "\n",
    "    questions_es = ['¿Cuáles son el resultado de la crisis?',\n",
    "                 '¿Cuál es la naturaleza del negocio?',\n",
    "                 '¿Cuándo se fundó la empresa?',\n",
    "                 ]\n",
    "\n",
    "    def predict(questions, pipe):\n",
    "      for question in questions:\n",
    "          prediction = pipe.run(\n",
    "              query=question\n",
    "          )\n",
    "          print(prediction['query'])\n",
    "          print(prediction['answers'][0]['answer'])\n",
    "          print(prediction['answers'][0]['probability'])\n",
    "          print(prediction['answers'][0]['context'])\n",
    "\n",
    "    predict(question_en_trust_deed, pipe)\n",
    "\n",
    "\n",
    "\n",
    "if __name__ == \"__main__\":\n",
    "    tutorial1_basic_qa_pipeline()\n"
   ]
  },
  {
   "cell_type": "code",
   "source": [
    "!pip freeze | grep farm"
   ],
   "metadata": {
    "colab": {
     "base_uri": "https://localhost:8080/"
    },
    "id": "bHey__Z9ep0s",
    "outputId": "ee79ac2d-4065-48cb-8652-54a0b73f2f2e"
   },
   "execution_count": null,
   "outputs": []
  },
  {
   "cell_type": "markdown",
   "source": [
    "# Nowa sekcja"
   ],
   "metadata": {
    "id": "EQ31m5YBb9Xn"
   }
  },
  {
   "cell_type": "code",
   "source": [
    ""
   ],
   "metadata": {
    "colab": {
     "base_uri": "https://localhost:8080/"
    },
    "id": "HTwbv-g3YbO9",
    "outputId": "58f0cc17-79c8-4360-97ff-69fedae85355"
   },
   "execution_count": null,
   "outputs": []
  }
 ]
}